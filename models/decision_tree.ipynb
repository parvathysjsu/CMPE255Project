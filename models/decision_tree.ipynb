{
 "cells": [
  {
   "cell_type": "code",
   "execution_count": 232,
   "metadata": {},
   "outputs": [],
   "source": [
    "import datetime\n",
    "import pandas as pd\n",
    "import numpy as np\n",
    "from sklearn.model_selection import train_test_split\n",
    "from sklearn.metrics import classification_report\n",
    "from sklearn.metrics import confusion_matrix\n",
    "from sklearn.metrics import accuracy_score\n",
    "import matplotlib.pyplot as plt\n",
    "from sklearn import tree\n",
    "import seaborn as sns\n",
    "from sklearn.tree import DecisionTreeClassifier"
   ]
  },
  {
   "cell_type": "code",
   "execution_count": 233,
   "metadata": {},
   "outputs": [],
   "source": [
    "#files and folders\n",
    "data_dir=\"./../data/preprocessed/\"\n",
    "graph_dir=\"./../model_visualization/decision_tree/\"\n",
    "data_file = \"negative_data_merge_weather_forest.csv\"\n",
    "# data_file = \"300.csv\""
   ]
  },
  {
   "cell_type": "code",
   "execution_count": 234,
   "metadata": {},
   "outputs": [],
   "source": [
    "#loading data\n",
    "data = pd.read_csv(data_dir+data_file, encoding='utf-8')"
   ]
  },
  {
   "cell_type": "code",
   "execution_count": 235,
   "metadata": {
    "scrolled": true
   },
   "outputs": [
    {
     "data": {
      "text/plain": [
       "(1046, 18)"
      ]
     },
     "execution_count": 235,
     "metadata": {},
     "output_type": "execute_result"
    }
   ],
   "source": [
    "data.shape"
   ]
  },
  {
   "cell_type": "code",
   "execution_count": 236,
   "metadata": {
    "scrolled": false
   },
   "outputs": [
    {
     "data": {
      "text/html": [
       "<div>\n",
       "<style scoped>\n",
       "    .dataframe tbody tr th:only-of-type {\n",
       "        vertical-align: middle;\n",
       "    }\n",
       "\n",
       "    .dataframe tbody tr th {\n",
       "        vertical-align: top;\n",
       "    }\n",
       "\n",
       "    .dataframe thead th {\n",
       "        text-align: right;\n",
       "    }\n",
       "</style>\n",
       "<table border=\"1\" class=\"dataframe\">\n",
       "  <thead>\n",
       "    <tr style=\"text-align: right;\">\n",
       "      <th></th>\n",
       "      <th>Unnamed: 0</th>\n",
       "      <th>UNITID</th>\n",
       "      <th>AGENCY</th>\n",
       "      <th>FIRENAME</th>\n",
       "      <th>ACRES</th>\n",
       "      <th>CAUSE</th>\n",
       "      <th>SHAPEAREA</th>\n",
       "      <th>SHAPELEN</th>\n",
       "      <th>start</th>\n",
       "      <th>end</th>\n",
       "      <th>max_temperature</th>\n",
       "      <th>min_temperature</th>\n",
       "      <th>avg_temperature</th>\n",
       "      <th>departure_temperature</th>\n",
       "      <th>hdd</th>\n",
       "      <th>cdd</th>\n",
       "      <th>percipitation</th>\n",
       "      <th>label</th>\n",
       "    </tr>\n",
       "  </thead>\n",
       "  <tbody>\n",
       "    <tr>\n",
       "      <th>0</th>\n",
       "      <td>18</td>\n",
       "      <td>WASES</td>\n",
       "      <td>WA DNR - SE REGION</td>\n",
       "      <td>WHITES BASIN FIRE</td>\n",
       "      <td>122.677970</td>\n",
       "      <td>UNKNOWN</td>\n",
       "      <td>5.343831e+06</td>\n",
       "      <td>14408.752985</td>\n",
       "      <td>2000-07-17</td>\n",
       "      <td>2000-07-17 00:00:00</td>\n",
       "      <td>85.0</td>\n",
       "      <td>52.0</td>\n",
       "      <td>68.5</td>\n",
       "      <td>68.5</td>\n",
       "      <td>0.0</td>\n",
       "      <td>4.0</td>\n",
       "      <td>0.0</td>\n",
       "      <td>True</td>\n",
       "    </tr>\n",
       "    <tr>\n",
       "      <th>1</th>\n",
       "      <td>19</td>\n",
       "      <td>WAOWF</td>\n",
       "      <td>OKAN-WEN NF</td>\n",
       "      <td>BAILEY FIRE</td>\n",
       "      <td>3211.967525</td>\n",
       "      <td>UNKNOWN</td>\n",
       "      <td>1.399127e+08</td>\n",
       "      <td>85511.107289</td>\n",
       "      <td>2001-08-13</td>\n",
       "      <td>2001-08-13 00:00:00</td>\n",
       "      <td>95.0</td>\n",
       "      <td>62.0</td>\n",
       "      <td>78.5</td>\n",
       "      <td>78.5</td>\n",
       "      <td>0.0</td>\n",
       "      <td>14.0</td>\n",
       "      <td>0.0</td>\n",
       "      <td>True</td>\n",
       "    </tr>\n",
       "    <tr>\n",
       "      <th>2</th>\n",
       "      <td>20</td>\n",
       "      <td>WASES</td>\n",
       "      <td>WA DNR - SE REGION</td>\n",
       "      <td>DRY CREEK FIRE</td>\n",
       "      <td>17.146866</td>\n",
       "      <td>UNKNOWN</td>\n",
       "      <td>7.469145e+05</td>\n",
       "      <td>3467.790280</td>\n",
       "      <td>2001-08-01</td>\n",
       "      <td>2001-08-01 00:00:00</td>\n",
       "      <td>62.0</td>\n",
       "      <td>44.0</td>\n",
       "      <td>53.0</td>\n",
       "      <td>53.0</td>\n",
       "      <td>12.0</td>\n",
       "      <td>0.0</td>\n",
       "      <td>0.0</td>\n",
       "      <td>True</td>\n",
       "    </tr>\n",
       "    <tr>\n",
       "      <th>3</th>\n",
       "      <td>21</td>\n",
       "      <td>WANES</td>\n",
       "      <td>WA DNR - NE REGION</td>\n",
       "      <td>GAMBLES MILL FIRE (BREWSTER</td>\n",
       "      <td>5516.094728</td>\n",
       "      <td>UNKNOWN</td>\n",
       "      <td>2.402801e+08</td>\n",
       "      <td>79565.077700</td>\n",
       "      <td>2001-08-12</td>\n",
       "      <td>2001-08-12 00:00:00</td>\n",
       "      <td>91.0</td>\n",
       "      <td>60.0</td>\n",
       "      <td>75.5</td>\n",
       "      <td>75.5</td>\n",
       "      <td>0.0</td>\n",
       "      <td>11.0</td>\n",
       "      <td>0.0</td>\n",
       "      <td>True</td>\n",
       "    </tr>\n",
       "    <tr>\n",
       "      <th>4</th>\n",
       "      <td>22</td>\n",
       "      <td>WASES</td>\n",
       "      <td>WA DNR - SE REGION</td>\n",
       "      <td>HIGHLAND FLATS FIRE</td>\n",
       "      <td>128.725767</td>\n",
       "      <td>UNKNOWN</td>\n",
       "      <td>5.607272e+06</td>\n",
       "      <td>15603.206251</td>\n",
       "      <td>2001-08-01</td>\n",
       "      <td>2001-08-01 00:00:00</td>\n",
       "      <td>71.0</td>\n",
       "      <td>52.0</td>\n",
       "      <td>61.5</td>\n",
       "      <td>61.5</td>\n",
       "      <td>3.0</td>\n",
       "      <td>0.0</td>\n",
       "      <td>0.0</td>\n",
       "      <td>True</td>\n",
       "    </tr>\n",
       "  </tbody>\n",
       "</table>\n",
       "</div>"
      ],
      "text/plain": [
       "   Unnamed: 0 UNITID              AGENCY                     FIRENAME  \\\n",
       "0          18  WASES  WA DNR - SE REGION            WHITES BASIN FIRE   \n",
       "1          19  WAOWF         OKAN-WEN NF                  BAILEY FIRE   \n",
       "2          20  WASES  WA DNR - SE REGION               DRY CREEK FIRE   \n",
       "3          21  WANES  WA DNR - NE REGION  GAMBLES MILL FIRE (BREWSTER   \n",
       "4          22  WASES  WA DNR - SE REGION          HIGHLAND FLATS FIRE   \n",
       "\n",
       "         ACRES    CAUSE     SHAPEAREA      SHAPELEN       start  \\\n",
       "0   122.677970  UNKNOWN  5.343831e+06  14408.752985  2000-07-17   \n",
       "1  3211.967525  UNKNOWN  1.399127e+08  85511.107289  2001-08-13   \n",
       "2    17.146866  UNKNOWN  7.469145e+05   3467.790280  2001-08-01   \n",
       "3  5516.094728  UNKNOWN  2.402801e+08  79565.077700  2001-08-12   \n",
       "4   128.725767  UNKNOWN  5.607272e+06  15603.206251  2001-08-01   \n",
       "\n",
       "                   end  max_temperature  min_temperature  avg_temperature  \\\n",
       "0  2000-07-17 00:00:00             85.0             52.0             68.5   \n",
       "1  2001-08-13 00:00:00             95.0             62.0             78.5   \n",
       "2  2001-08-01 00:00:00             62.0             44.0             53.0   \n",
       "3  2001-08-12 00:00:00             91.0             60.0             75.5   \n",
       "4  2001-08-01 00:00:00             71.0             52.0             61.5   \n",
       "\n",
       "   departure_temperature   hdd   cdd  percipitation  label  \n",
       "0                   68.5   0.0   4.0            0.0   True  \n",
       "1                   78.5   0.0  14.0            0.0   True  \n",
       "2                   53.0  12.0   0.0            0.0   True  \n",
       "3                   75.5   0.0  11.0            0.0   True  \n",
       "4                   61.5   3.0   0.0            0.0   True  "
      ]
     },
     "execution_count": 236,
     "metadata": {},
     "output_type": "execute_result"
    }
   ],
   "source": [
    "data.head(5)"
   ]
  },
  {
   "cell_type": "code",
   "execution_count": 237,
   "metadata": {},
   "outputs": [
    {
     "data": {
      "text/html": [
       "<div>\n",
       "<style scoped>\n",
       "    .dataframe tbody tr th:only-of-type {\n",
       "        vertical-align: middle;\n",
       "    }\n",
       "\n",
       "    .dataframe tbody tr th {\n",
       "        vertical-align: top;\n",
       "    }\n",
       "\n",
       "    .dataframe thead th {\n",
       "        text-align: right;\n",
       "    }\n",
       "</style>\n",
       "<table border=\"1\" class=\"dataframe\">\n",
       "  <thead>\n",
       "    <tr style=\"text-align: right;\">\n",
       "      <th></th>\n",
       "      <th>Unnamed: 0</th>\n",
       "      <th>ACRES</th>\n",
       "      <th>SHAPEAREA</th>\n",
       "      <th>SHAPELEN</th>\n",
       "      <th>max_temperature</th>\n",
       "      <th>min_temperature</th>\n",
       "      <th>avg_temperature</th>\n",
       "      <th>departure_temperature</th>\n",
       "      <th>hdd</th>\n",
       "      <th>cdd</th>\n",
       "      <th>percipitation</th>\n",
       "    </tr>\n",
       "  </thead>\n",
       "  <tbody>\n",
       "    <tr>\n",
       "      <th>count</th>\n",
       "      <td>1046.000000</td>\n",
       "      <td>1046.000000</td>\n",
       "      <td>1.046000e+03</td>\n",
       "      <td>1.046000e+03</td>\n",
       "      <td>1046.000000</td>\n",
       "      <td>1046.000000</td>\n",
       "      <td>1046.000000</td>\n",
       "      <td>1046.000000</td>\n",
       "      <td>1046.000000</td>\n",
       "      <td>1046.000000</td>\n",
       "      <td>1046.000000</td>\n",
       "    </tr>\n",
       "    <tr>\n",
       "      <th>mean</th>\n",
       "      <td>329.560229</td>\n",
       "      <td>3911.964130</td>\n",
       "      <td>1.704045e+08</td>\n",
       "      <td>5.099237e+04</td>\n",
       "      <td>71.313251</td>\n",
       "      <td>51.428128</td>\n",
       "      <td>61.370689</td>\n",
       "      <td>32.153290</td>\n",
       "      <td>4.856629</td>\n",
       "      <td>1.672246</td>\n",
       "      <td>0.061878</td>\n",
       "    </tr>\n",
       "    <tr>\n",
       "      <th>std</th>\n",
       "      <td>188.956271</td>\n",
       "      <td>17019.064025</td>\n",
       "      <td>7.413475e+08</td>\n",
       "      <td>1.557769e+05</td>\n",
       "      <td>10.164667</td>\n",
       "      <td>5.988103</td>\n",
       "      <td>7.303963</td>\n",
       "      <td>32.171405</td>\n",
       "      <td>4.496930</td>\n",
       "      <td>2.930378</td>\n",
       "      <td>0.194652</td>\n",
       "    </tr>\n",
       "    <tr>\n",
       "      <th>min</th>\n",
       "      <td>18.000000</td>\n",
       "      <td>0.000000</td>\n",
       "      <td>0.000000e+00</td>\n",
       "      <td>0.000000e+00</td>\n",
       "      <td>0.000000</td>\n",
       "      <td>0.000000</td>\n",
       "      <td>0.000000</td>\n",
       "      <td>-7.800000</td>\n",
       "      <td>0.000000</td>\n",
       "      <td>0.000000</td>\n",
       "      <td>0.000000</td>\n",
       "    </tr>\n",
       "    <tr>\n",
       "      <th>25%</th>\n",
       "      <td>173.250000</td>\n",
       "      <td>0.000000</td>\n",
       "      <td>0.000000e+00</td>\n",
       "      <td>0.000000e+00</td>\n",
       "      <td>64.000000</td>\n",
       "      <td>48.000000</td>\n",
       "      <td>57.375000</td>\n",
       "      <td>0.400000</td>\n",
       "      <td>0.882222</td>\n",
       "      <td>0.000000</td>\n",
       "      <td>0.000000</td>\n",
       "    </tr>\n",
       "    <tr>\n",
       "      <th>50%</th>\n",
       "      <td>313.000000</td>\n",
       "      <td>0.151900</td>\n",
       "      <td>6.616733e+03</td>\n",
       "      <td>3.649428e+02</td>\n",
       "      <td>70.380952</td>\n",
       "      <td>52.000000</td>\n",
       "      <td>60.500000</td>\n",
       "      <td>12.250000</td>\n",
       "      <td>4.000000</td>\n",
       "      <td>0.000000</td>\n",
       "      <td>0.000000</td>\n",
       "    </tr>\n",
       "    <tr>\n",
       "      <th>75%</th>\n",
       "      <td>485.750000</td>\n",
       "      <td>907.797415</td>\n",
       "      <td>3.954350e+07</td>\n",
       "      <td>3.778582e+04</td>\n",
       "      <td>78.244318</td>\n",
       "      <td>55.000000</td>\n",
       "      <td>66.075000</td>\n",
       "      <td>65.000000</td>\n",
       "      <td>7.776786</td>\n",
       "      <td>2.194118</td>\n",
       "      <td>0.030000</td>\n",
       "    </tr>\n",
       "    <tr>\n",
       "      <th>max</th>\n",
       "      <td>678.000000</td>\n",
       "      <td>255899.595743</td>\n",
       "      <td>1.114694e+10</td>\n",
       "      <td>1.764409e+06</td>\n",
       "      <td>98.000000</td>\n",
       "      <td>66.200000</td>\n",
       "      <td>80.000000</td>\n",
       "      <td>80.000000</td>\n",
       "      <td>29.450000</td>\n",
       "      <td>15.000000</td>\n",
       "      <td>2.620000</td>\n",
       "    </tr>\n",
       "  </tbody>\n",
       "</table>\n",
       "</div>"
      ],
      "text/plain": [
       "        Unnamed: 0          ACRES     SHAPEAREA      SHAPELEN  \\\n",
       "count  1046.000000    1046.000000  1.046000e+03  1.046000e+03   \n",
       "mean    329.560229    3911.964130  1.704045e+08  5.099237e+04   \n",
       "std     188.956271   17019.064025  7.413475e+08  1.557769e+05   \n",
       "min      18.000000       0.000000  0.000000e+00  0.000000e+00   \n",
       "25%     173.250000       0.000000  0.000000e+00  0.000000e+00   \n",
       "50%     313.000000       0.151900  6.616733e+03  3.649428e+02   \n",
       "75%     485.750000     907.797415  3.954350e+07  3.778582e+04   \n",
       "max     678.000000  255899.595743  1.114694e+10  1.764409e+06   \n",
       "\n",
       "       max_temperature  min_temperature  avg_temperature  \\\n",
       "count      1046.000000      1046.000000      1046.000000   \n",
       "mean         71.313251        51.428128        61.370689   \n",
       "std          10.164667         5.988103         7.303963   \n",
       "min           0.000000         0.000000         0.000000   \n",
       "25%          64.000000        48.000000        57.375000   \n",
       "50%          70.380952        52.000000        60.500000   \n",
       "75%          78.244318        55.000000        66.075000   \n",
       "max          98.000000        66.200000        80.000000   \n",
       "\n",
       "       departure_temperature          hdd          cdd  percipitation  \n",
       "count            1046.000000  1046.000000  1046.000000    1046.000000  \n",
       "mean               32.153290     4.856629     1.672246       0.061878  \n",
       "std                32.171405     4.496930     2.930378       0.194652  \n",
       "min                -7.800000     0.000000     0.000000       0.000000  \n",
       "25%                 0.400000     0.882222     0.000000       0.000000  \n",
       "50%                12.250000     4.000000     0.000000       0.000000  \n",
       "75%                65.000000     7.776786     2.194118       0.030000  \n",
       "max                80.000000    29.450000    15.000000       2.620000  "
      ]
     },
     "execution_count": 237,
     "metadata": {},
     "output_type": "execute_result"
    }
   ],
   "source": [
    "data.describe()"
   ]
  },
  {
   "cell_type": "code",
   "execution_count": 238,
   "metadata": {},
   "outputs": [
    {
     "data": {
      "text/plain": [
       "label\n",
       "False    523\n",
       "True     523\n",
       "dtype: int64"
      ]
     },
     "execution_count": 238,
     "metadata": {},
     "output_type": "execute_result"
    }
   ],
   "source": [
    "data.groupby('label').size()"
   ]
  },
  {
   "cell_type": "code",
   "execution_count": 239,
   "metadata": {},
   "outputs": [],
   "source": [
    "# Plot relation between input and output variables\n",
    "def io_trend(variable, output, data):\n",
    "    \"\"\"\n",
    "    Identify positive or negative relation with the output label\n",
    "    :param variable: input variable\n",
    "    :param output: label\n",
    "    :param data: wildfire data set\n",
    "    :return: plot graph showing the relation\n",
    "    \"\"\"\n",
    "    fig = plt.figure(figsize=(10,10))\n",
    "#     plt.clf()\n",
    "    sns.regplot(x=variable, y=output, data=data)\n",
    "    plt.show()\n",
    "    fig.savefig(graph_dir+variable+\"_relation.png\")\n",
    "#     plt.savefig(graph_dir+variable+\"_relation.png\")"
   ]
  },
  {
   "cell_type": "code",
   "execution_count": 240,
   "metadata": {},
   "outputs": [
    {
     "data": {
      "image/png": "[encoded data removed]",
      "text/plain": [
       "<Figure size 720x720 with 1 Axes>"
      ]
     },
     "metadata": {
      "needs_background": "light"
     },
     "output_type": "display_data"
    }
   ],
   "source": [
    "io_trend('max_temperature', 'label', data)"
   ]
  },
  {
   "cell_type": "code",
   "execution_count": 241,
   "metadata": {},
   "outputs": [
    {
     "data": {
      "image/png": "[encoded data removed]",
      "text/plain": [
       "<Figure size 720x720 with 1 Axes>"
      ]
     },
     "metadata": {
      "needs_background": "light"
     },
     "output_type": "display_data"
    }
   ],
   "source": [
    "io_trend('percipitation', 'label', data)"
   ]
  },
  {
   "cell_type": "code",
   "execution_count": 242,
   "metadata": {},
   "outputs": [],
   "source": [
    "def preprocess_input(X):\n",
    "    \"\"\"\n",
    "    Remove uncessary column and convert date to ordinal data\n",
    "    :param X: input data to preprocess\n",
    "    :return: processed data\n",
    "    \"\"\"\n",
    "    drop_columns = ['end','ACRES','CAUSE','SHAPEAREA','SHAPELEN','start','departure_temperature']\n",
    "    for col in drop_columns:\n",
    "        X.drop(columns=col, inplace=True)      \n",
    "#     X['start'] = pd.to_datetime(X['start'])\n",
    "#     X['start'] = X['start'].map(datetime.datetime.toordinal)\n",
    "    X = pd.get_dummies(X)\n",
    "    return X"
   ]
  },
  {
   "cell_type": "code",
   "execution_count": 243,
   "metadata": {},
   "outputs": [
    {
     "data": {
      "text/plain": [
       "(1046, 18)"
      ]
     },
     "execution_count": 243,
     "metadata": {},
     "output_type": "execute_result"
    }
   ],
   "source": [
    "data.shape"
   ]
  },
  {
   "cell_type": "code",
   "execution_count": 244,
   "metadata": {},
   "outputs": [
    {
     "name": "stdout",
     "output_type": "stream",
     "text": [
      "['Unnamed: 0', 'UNITID', 'AGENCY', 'FIRENAME', 'ACRES', 'CAUSE', 'SHAPEAREA', 'SHAPELEN', 'start', 'end', 'max_temperature', 'min_temperature', 'avg_temperature', 'departure_temperature', 'hdd', 'cdd', 'percipitation', 'label']\n",
      "['ACRES', 'CAUSE', 'SHAPEAREA', 'SHAPELEN', 'start', 'end', 'max_temperature', 'min_temperature', 'avg_temperature', 'departure_temperature', 'hdd', 'cdd', 'percipitation']\n"
     ]
    },
    {
     "data": {
      "text/plain": [
       "(1046, 13)"
      ]
     },
     "execution_count": 244,
     "metadata": {},
     "output_type": "execute_result"
    }
   ],
   "source": [
    "# # input data\n",
    "print(list(data.columns) )\n",
    "X = data.iloc[:, 4:-1]\n",
    "print(list(X.columns) )\n",
    "X.shape"
   ]
  },
  {
   "cell_type": "code",
   "execution_count": 245,
   "metadata": {},
   "outputs": [
    {
     "name": "stdout",
     "output_type": "stream",
     "text": [
      "['max_temperature', 'min_temperature', 'avg_temperature', 'hdd', 'cdd', 'percipitation']\n"
     ]
    },
    {
     "data": {
      "text/plain": [
       "(1046, 6)"
      ]
     },
     "execution_count": 245,
     "metadata": {},
     "output_type": "execute_result"
    }
   ],
   "source": [
    "X = preprocess_input(X)\n",
    "print(list(X.columns) )\n",
    "X.shape"
   ]
  },
  {
   "cell_type": "code",
   "execution_count": 246,
   "metadata": {},
   "outputs": [
    {
     "data": {
      "text/html": [
       "<div>\n",
       "<style scoped>\n",
       "    .dataframe tbody tr th:only-of-type {\n",
       "        vertical-align: middle;\n",
       "    }\n",
       "\n",
       "    .dataframe tbody tr th {\n",
       "        vertical-align: top;\n",
       "    }\n",
       "\n",
       "    .dataframe thead th {\n",
       "        text-align: right;\n",
       "    }\n",
       "</style>\n",
       "<table border=\"1\" class=\"dataframe\">\n",
       "  <thead>\n",
       "    <tr style=\"text-align: right;\">\n",
       "      <th></th>\n",
       "      <th>max_temperature</th>\n",
       "      <th>min_temperature</th>\n",
       "      <th>avg_temperature</th>\n",
       "      <th>hdd</th>\n",
       "      <th>cdd</th>\n",
       "      <th>percipitation</th>\n",
       "    </tr>\n",
       "  </thead>\n",
       "  <tbody>\n",
       "    <tr>\n",
       "      <th>0</th>\n",
       "      <td>85.0</td>\n",
       "      <td>52.0</td>\n",
       "      <td>68.5</td>\n",
       "      <td>0.0</td>\n",
       "      <td>4.0</td>\n",
       "      <td>0.0</td>\n",
       "    </tr>\n",
       "    <tr>\n",
       "      <th>1</th>\n",
       "      <td>95.0</td>\n",
       "      <td>62.0</td>\n",
       "      <td>78.5</td>\n",
       "      <td>0.0</td>\n",
       "      <td>14.0</td>\n",
       "      <td>0.0</td>\n",
       "    </tr>\n",
       "    <tr>\n",
       "      <th>2</th>\n",
       "      <td>62.0</td>\n",
       "      <td>44.0</td>\n",
       "      <td>53.0</td>\n",
       "      <td>12.0</td>\n",
       "      <td>0.0</td>\n",
       "      <td>0.0</td>\n",
       "    </tr>\n",
       "    <tr>\n",
       "      <th>3</th>\n",
       "      <td>91.0</td>\n",
       "      <td>60.0</td>\n",
       "      <td>75.5</td>\n",
       "      <td>0.0</td>\n",
       "      <td>11.0</td>\n",
       "      <td>0.0</td>\n",
       "    </tr>\n",
       "    <tr>\n",
       "      <th>4</th>\n",
       "      <td>71.0</td>\n",
       "      <td>52.0</td>\n",
       "      <td>61.5</td>\n",
       "      <td>3.0</td>\n",
       "      <td>0.0</td>\n",
       "      <td>0.0</td>\n",
       "    </tr>\n",
       "  </tbody>\n",
       "</table>\n",
       "</div>"
      ],
      "text/plain": [
       "   max_temperature  min_temperature  avg_temperature   hdd   cdd  \\\n",
       "0             85.0             52.0             68.5   0.0   4.0   \n",
       "1             95.0             62.0             78.5   0.0  14.0   \n",
       "2             62.0             44.0             53.0  12.0   0.0   \n",
       "3             91.0             60.0             75.5   0.0  11.0   \n",
       "4             71.0             52.0             61.5   3.0   0.0   \n",
       "\n",
       "   percipitation  \n",
       "0            0.0  \n",
       "1            0.0  \n",
       "2            0.0  \n",
       "3            0.0  \n",
       "4            0.0  "
      ]
     },
     "execution_count": 246,
     "metadata": {},
     "output_type": "execute_result"
    }
   ],
   "source": [
    "X.head(5)"
   ]
  },
  {
   "cell_type": "code",
   "execution_count": 247,
   "metadata": {},
   "outputs": [
    {
     "data": {
      "text/plain": [
       "(1046,)"
      ]
     },
     "execution_count": 247,
     "metadata": {},
     "output_type": "execute_result"
    }
   ],
   "source": [
    "# output data\n",
    "y = data.iloc[:, -1]\n",
    "y.shape"
   ]
  },
  {
   "cell_type": "code",
   "execution_count": 248,
   "metadata": {},
   "outputs": [],
   "source": [
    "def make_confusion_matrix(cf, categories,\n",
    "                          group_names=None,\n",
    "                          count=True,\n",
    "                          percent=True,\n",
    "                          color_bar=True,\n",
    "                          xy_ticks=True,\n",
    "                          xy_plot_labels=True,\n",
    "                          sum_stats=True,\n",
    "                          fig_size=None,\n",
    "                          c_map='Blues',\n",
    "                          title=None):\n",
    "    \"\"\"\n",
    "    Code to generate text within each box and beautify confusion matrix.\n",
    "    :param cf: Confusion matrix\n",
    "    :param categories: array of classes\n",
    "    :param group_names: classes in the project\n",
    "    :param count: whether to display the count of each class\n",
    "    :param percent: whether to display percentage for each class\n",
    "    :param color_bar: whether to display color bar for the heat map\n",
    "    :param xy_ticks: whether to display xy labels\n",
    "    :param xy_plot_labels: whether to display xy title\n",
    "    :param sum_stats: whether to display overall accuracy\n",
    "    :param fig_size: size of the plot\n",
    "    :param c_map: color scheme to use\n",
    "    :param title: Title of the plot\n",
    "    :return: Confusion matrix\n",
    "    \"\"\"\n",
    "    blanks = ['' for i in range(cf.size)]\n",
    "\n",
    "    if group_names and len(group_names) == cf.size:\n",
    "        group_labels = [\"{}\\n\".format(value) for value in group_names]\n",
    "    else:\n",
    "        group_labels = blanks\n",
    "\n",
    "    if count:\n",
    "        group_counts = [\"{0:0.0f}\\n\".format(value) for value in cf.flatten()]\n",
    "    else:\n",
    "        group_counts = blanks\n",
    "\n",
    "    if percent:\n",
    "        row_size = np.size(cf, 0)\n",
    "        col_size = np.size(cf, 1)\n",
    "        group_percentages = []\n",
    "        for i in range(row_size):\n",
    "            for j in range(col_size):\n",
    "                group_percentages.append(cf[i][j] / cf[i].sum())\n",
    "        group_percentages = [\"{0:.2%}\".format(value)\n",
    "                             for value in group_percentages]\n",
    "    else:\n",
    "        group_percentages = blanks\n",
    "\n",
    "    box_labels = [f\"{v1}{v2}{v3}\".strip()\n",
    "                  for v1, v2, v3 in zip(group_labels,\n",
    "                                        group_counts,\n",
    "                                        group_percentages)]\n",
    "    box_labels = np.asarray(box_labels).reshape(cf.shape[0], cf.shape[1])\n",
    "\n",
    "    # CODE TO GENERATE SUMMARY STATISTICS & TEXT FOR SUMMARY STATS\n",
    "    if sum_stats:\n",
    "        # Accuracy is sum of diagonal divided by total observations\n",
    "        accuracy = np.trace(cf) / float(np.sum(cf))\n",
    "        stats_text = \"\\n\\nAccuracy={0:0.2%}\".format(accuracy)\n",
    "    else:\n",
    "        stats_text = \"\"\n",
    "\n",
    "    # SET FIGURE PARAMETERS ACCORDING TO OTHER ARGUMENTS\n",
    "    if fig_size is None:\n",
    "        # Get default figure size if not set\n",
    "        fig_size = plt.rcParams.get('figure.figsize')\n",
    "\n",
    "    if not xy_ticks:\n",
    "        # Do not show categories if xyticks is False\n",
    "        categories = False\n",
    "\n",
    "    # MAKE THE HEAT MAP VISUALIZATION\n",
    "    plt.figure(figsize=fig_size)\n",
    "    sns.heatmap(cf, annot=box_labels, fmt=\"\",\n",
    "                cmap=c_map, cbar=color_bar,\n",
    "                xticklabels=categories,\n",
    "                yticklabels=categories)\n",
    "\n",
    "    if xy_plot_labels:\n",
    "        plt.ylabel('True label')\n",
    "        plt.xlabel('Predicted label' + stats_text)\n",
    "    else:\n",
    "        plt.xlabel(stats_text)\n",
    "\n",
    "    if title:\n",
    "        plt.title(title)"
   ]
  },
  {
   "cell_type": "code",
   "execution_count": 249,
   "metadata": {},
   "outputs": [],
   "source": [
    "# Split train and test data\n",
    "X_train, X_test, y_train, y_test = train_test_split(X, y, test_size=0.2, random_state=42)"
   ]
  },
  {
   "cell_type": "code",
   "execution_count": 250,
   "metadata": {},
   "outputs": [
    {
     "name": "stdout",
     "output_type": "stream",
     "text": [
      "0.8809523809523809\n"
     ]
    }
   ],
   "source": [
    "#Data Classification using Decision Tree\n",
    "model = DecisionTreeClassifier()\n",
    "model.fit(X_train, y_train)\n",
    "prediction = model.predict(X_test)\n",
    "# Evaluate predictions\n",
    "print(accuracy_score(y_test, prediction))"
   ]
  },
  {
   "cell_type": "code",
   "execution_count": 251,
   "metadata": {},
   "outputs": [
    {
     "name": "stdout",
     "output_type": "stream",
     "text": [
      "[[93  9]\n",
      " [16 92]]\n"
     ]
    }
   ],
   "source": [
    "print(confusion_matrix(y_test, prediction))"
   ]
  },
  {
   "cell_type": "code",
   "execution_count": 252,
   "metadata": {},
   "outputs": [
    {
     "data": {
      "image/png": "[encoded data removed]",
      "text/plain": [
       "<Figure size 576x432 with 1 Axes>"
      ]
     },
     "metadata": {
      "needs_background": "light"
     },
     "output_type": "display_data"
    }
   ],
   "source": [
    "corr = confusion_matrix(y_test, prediction)\n",
    "# plot confusion matrix\n",
    "make_confusion_matrix(corr,\n",
    "                          categories=['YES', 'NO'],\n",
    "                          count=True,\n",
    "                          percent=True,\n",
    "                          color_bar=False,\n",
    "                          xy_ticks=True,\n",
    "                          xy_plot_labels=True,\n",
    "                          sum_stats=True,\n",
    "                          fig_size=(8, 6),\n",
    "                          c_map='OrRd',\n",
    "                          title='Wildfire Occurrence')\n",
    "# error correction - cropped heat map\n",
    "b, t = plt.ylim()  # discover the values for bottom and top\n",
    "b += 0.5  # Add 0.5 to the bottom\n",
    "t -= 0.5  # Subtract 0.5 from the top\n",
    "plt.ylim(b, t)  # update the ylim(bottom, top) values\n",
    "plt.savefig(graph_dir+\"confusion_matrix.png\", bbox_inches='tight')"
   ]
  },
  {
   "cell_type": "code",
   "execution_count": 253,
   "metadata": {},
   "outputs": [
    {
     "name": "stdout",
     "output_type": "stream",
     "text": [
      "              precision    recall  f1-score   support\n",
      "\n",
      "       False       0.85      0.91      0.88       102\n",
      "        True       0.91      0.85      0.88       108\n",
      "\n",
      "    accuracy                           0.88       210\n",
      "   macro avg       0.88      0.88      0.88       210\n",
      "weighted avg       0.88      0.88      0.88       210\n",
      "\n"
     ]
    }
   ],
   "source": [
    "print(classification_report(y_test, prediction))"
   ]
  },
  {
   "cell_type": "code",
   "execution_count": 254,
   "metadata": {},
   "outputs": [
    {
     "data": {
      "image/png": "[encoded data removed]",
      "text/plain": [
       "<Figure size 720x720 with 1 Axes>"
      ]
     },
     "metadata": {
      "needs_background": "light"
     },
     "output_type": "display_data"
    }
   ],
   "source": [
    "fig = plt.figure(figsize=(10,10))\n",
    "_ = tree.plot_tree(model, filled=True)\n",
    "fig.savefig(graph_dir+\"decistion_tree.png\")    "
   ]
  },
  {
   "cell_type": "code",
   "execution_count": null,
   "metadata": {},
   "outputs": [],
   "source": []
  }
 ],
 "metadata": {
  "kernelspec": {
   "display_name": "Python 3",
   "language": "python",
   "name": "python3"
  },
  "language_info": {
   "codemirror_mode": {
    "name": "ipython",
    "version": 3
   },
   "file_extension": ".py",
   "mimetype": "text/x-python",
   "name": "python",
   "nbconvert_exporter": "python",
   "pygments_lexer": "ipython3",
   "version": "3.8.5"
  }
 },
 "nbformat": 4,
 "nbformat_minor": 4
}
